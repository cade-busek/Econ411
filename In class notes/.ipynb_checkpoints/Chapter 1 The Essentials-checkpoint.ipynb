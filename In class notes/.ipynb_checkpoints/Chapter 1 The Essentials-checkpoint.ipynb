{
 "cells": [
  {
   "cell_type": "markdown",
   "id": "39fa1be1",
   "metadata": {},
   "source": [
    "# Hello World"
   ]
  },
  {
   "cell_type": "code",
   "execution_count": 1,
   "id": "f88163c8",
   "metadata": {},
   "outputs": [
    {
     "name": "stdout",
     "output_type": "stream",
     "text": [
      "Hello world!\n"
     ]
    }
   ],
   "source": [
    "print(\"Hello world!\")"
   ]
  },
  {
   "cell_type": "code",
   "execution_count": 2,
   "id": "ab1172a7",
   "metadata": {},
   "outputs": [
    {
     "data": {
      "text/plain": [
       "str"
      ]
     },
     "execution_count": 2,
     "metadata": {},
     "output_type": "execute_result"
    }
   ],
   "source": [
    "type('Hello World!')"
   ]
  },
  {
   "cell_type": "code",
   "execution_count": 4,
   "id": "1cabb390",
   "metadata": {},
   "outputs": [],
   "source": [
    "## Save \"Hello World!\" as a variable"
   ]
  },
  {
   "cell_type": "code",
   "execution_count": 7,
   "id": "79e0b797",
   "metadata": {},
   "outputs": [
    {
     "name": "stdout",
     "output_type": "stream",
     "text": [
      "Hello World\n"
     ]
    }
   ],
   "source": [
    "msg = \"Hello World\"\n",
    "print(msg)\n",
    "\n",
    "#The magic of programming is being able to save something and bring it up again and again without retyping the entire thing"
   ]
  },
  {
   "cell_type": "code",
   "execution_count": 8,
   "id": "70022743",
   "metadata": {},
   "outputs": [
    {
     "data": {
      "text/plain": [
       "str"
      ]
     },
     "execution_count": 8,
     "metadata": {},
     "output_type": "execute_result"
    }
   ],
   "source": [
    "type(msg)\n"
   ]
  },
  {
   "cell_type": "code",
   "execution_count": 10,
   "id": "9fb1daec",
   "metadata": {
    "scrolled": true
   },
   "outputs": [
    {
     "data": {
      "text/plain": [
       "['__add__',\n",
       " '__class__',\n",
       " '__contains__',\n",
       " '__delattr__',\n",
       " '__dir__',\n",
       " '__doc__',\n",
       " '__eq__',\n",
       " '__format__',\n",
       " '__ge__',\n",
       " '__getattribute__',\n",
       " '__getitem__',\n",
       " '__getnewargs__',\n",
       " '__gt__',\n",
       " '__hash__',\n",
       " '__init__',\n",
       " '__init_subclass__',\n",
       " '__iter__',\n",
       " '__le__',\n",
       " '__len__',\n",
       " '__lt__',\n",
       " '__mod__',\n",
       " '__mul__',\n",
       " '__ne__',\n",
       " '__new__',\n",
       " '__reduce__',\n",
       " '__reduce_ex__',\n",
       " '__repr__',\n",
       " '__rmod__',\n",
       " '__rmul__',\n",
       " '__setattr__',\n",
       " '__sizeof__',\n",
       " '__str__',\n",
       " '__subclasshook__',\n",
       " 'capitalize',\n",
       " 'casefold',\n",
       " 'center',\n",
       " 'count',\n",
       " 'encode',\n",
       " 'endswith',\n",
       " 'expandtabs',\n",
       " 'find',\n",
       " 'format',\n",
       " 'format_map',\n",
       " 'index',\n",
       " 'isalnum',\n",
       " 'isalpha',\n",
       " 'isascii',\n",
       " 'isdecimal',\n",
       " 'isdigit',\n",
       " 'isidentifier',\n",
       " 'islower',\n",
       " 'isnumeric',\n",
       " 'isprintable',\n",
       " 'isspace',\n",
       " 'istitle',\n",
       " 'isupper',\n",
       " 'join',\n",
       " 'ljust',\n",
       " 'lower',\n",
       " 'lstrip',\n",
       " 'maketrans',\n",
       " 'partition',\n",
       " 'removeprefix',\n",
       " 'removesuffix',\n",
       " 'replace',\n",
       " 'rfind',\n",
       " 'rindex',\n",
       " 'rjust',\n",
       " 'rpartition',\n",
       " 'rsplit',\n",
       " 'rstrip',\n",
       " 'split',\n",
       " 'splitlines',\n",
       " 'startswith',\n",
       " 'strip',\n",
       " 'swapcase',\n",
       " 'title',\n",
       " 'translate',\n",
       " 'upper',\n",
       " 'zfill']"
      ]
     },
     "execution_count": 10,
     "metadata": {},
     "output_type": "execute_result"
    }
   ],
   "source": [
    "dir(msg)\n",
    "# every string object has all these methods that can be used"
   ]
  },
  {
   "cell_type": "code",
   "execution_count": 14,
   "id": "4fcf652b",
   "metadata": {},
   "outputs": [
    {
     "name": "stdout",
     "output_type": "stream",
     "text": [
      "JOHN NASH\n"
     ]
    },
    {
     "data": {
      "text/plain": [
       "'John Nash'"
      ]
     },
     "execution_count": 14,
     "metadata": {},
     "output_type": "execute_result"
    }
   ],
   "source": [
    "msg = \"john nash\"\n",
    "\n",
    "# ALL CAPS\n",
    "msg_upper = msg.upper()\n",
    "print(msg_upper)\n",
    "# Capitalize the first letter\n",
    "msg_title = msg.title()\n",
    "msg_title"
   ]
  },
  {
   "cell_type": "code",
   "execution_count": 24,
   "id": "cac2495d",
   "metadata": {},
   "outputs": [
    {
     "name": "stdout",
     "output_type": "stream",
     "text": [
      "A\n"
     ]
    }
   ],
   "source": [
    "# Concatenation is joining strings together forming a single string\n",
    "print('A')"
   ]
  },
  {
   "cell_type": "code",
   "execution_count": 19,
   "id": "04f415f7",
   "metadata": {},
   "outputs": [
    {
     "name": "stdout",
     "output_type": "stream",
     "text": [
      "B\n"
     ]
    }
   ],
   "source": [
    "print('B')"
   ]
  },
  {
   "cell_type": "code",
   "execution_count": 23,
   "id": "95865934",
   "metadata": {},
   "outputs": [
    {
     "name": "stdout",
     "output_type": "stream",
     "text": [
      "AB\n"
     ]
    }
   ],
   "source": [
    "a = \"A\"\n",
    "b = \"B\"\n",
    "print(a + b)"
   ]
  },
  {
   "cell_type": "code",
   "execution_count": 38,
   "id": "0ccfc088",
   "metadata": {},
   "outputs": [
    {
     "name": "stdout",
     "output_type": "stream",
     "text": [
      "1\n",
      "2\n",
      "3\n",
      "4\n",
      "You thought it would be easy\n",
      "You thought it wouldn't be strange\n",
      "But then you started coding\n",
      "Things never were the same\n"
     ]
    }
   ],
   "source": [
    "line1 = \"You thought it would be easy\"\n",
    "line2 = \"You thought it wouldn't be strange\"\n",
    "line3 = \"But then you started coding\"\n",
    "line4 = \"Things never were the same\"\n",
    "#print(line1 + line2 + line3 + line4)\n",
    "#print(line1+ \" \" + line2)\n",
    "#print(line1 + '\\n' + line2)\n",
    "\n",
    "# Escape functions, \\n creates new line\n",
    "#Sep = \"string\" to insert a particular string between each object passed to spring \n",
    "\n",
    "print(1,2,3,4, sep = '\\n')\n",
    "\n",
    "print(line1, line2, line3, line4, sep = '\\n')"
   ]
  },
  {
   "cell_type": "markdown",
   "id": "c1906762",
   "metadata": {},
   "source": [
    "Escape Sequences\n",
    "\n",
    "New Concepts\tDescription\n",
    "Escape Sequences (more)\tSee table below\n",
    "Below is a list of commands including and related to the string used in earlier exercises, “\\n”. These are known as escape sequences'.\n",
    "\n",
    "Escape Sequence\tResult\n",
    "\"\\\"\tBackslash\n",
    "'\\''\tSingle Quote\n",
    "\"\\\"\"\tDouble Quote\n",
    "\"\\t\"\tHorizontal Tab\n",
    "\"\\n\"\tNew Line"
   ]
  },
  {
   "cell_type": "markdown",
   "id": "0d283055",
   "metadata": {},
   "source": [
    "# Quotes within quotes"
   ]
  },
  {
   "cell_type": "code",
   "execution_count": 42,
   "id": "0ec4d9b2",
   "metadata": {},
   "outputs": [
    {
     "name": "stdout",
     "output_type": "stream",
     "text": [
      "\"\n"
     ]
    }
   ],
   "source": [
    "print(\"\\\"\")\n",
    "\n",
    "#just use the opposite of the numnber of quotes if you want to do quotes within quotes"
   ]
  },
  {
   "cell_type": "markdown",
   "id": "cd49657d",
   "metadata": {},
   "source": [
    "# More String Methods"
   ]
  },
  {
   "cell_type": "code",
   "execution_count": 46,
   "id": "329cda05",
   "metadata": {},
   "outputs": [
    {
     "name": "stdout",
     "output_type": "stream",
     "text": [
      "     Look at all the spaces in the text!     \n"
     ]
    }
   ],
   "source": [
    "spaces = \"     Look at all the spaces in the text!     \"\n",
    "print(spaces)"
   ]
  },
  {
   "cell_type": "code",
   "execution_count": 48,
   "id": "db8688f1",
   "metadata": {},
   "outputs": [
    {
     "name": "stdout",
     "output_type": "stream",
     "text": [
      "Look at all the spaces in the text!     \n"
     ]
    }
   ],
   "source": [
    "# remove spaces on far left\n",
    "print(spaces.lstrip())"
   ]
  },
  {
   "cell_type": "code",
   "execution_count": 50,
   "id": "50721e8b",
   "metadata": {},
   "outputs": [
    {
     "name": "stdout",
     "output_type": "stream",
     "text": [
      "     Look at all the spaces in the text!\n"
     ]
    }
   ],
   "source": [
    "# remove spaces on far right\n",
    "print(spaces.rstrip())"
   ]
  },
  {
   "cell_type": "code",
   "execution_count": 52,
   "id": "79c006b9",
   "metadata": {},
   "outputs": [
    {
     "name": "stdout",
     "output_type": "stream",
     "text": [
      "Look at all the spaces in the text!\n"
     ]
    }
   ],
   "source": [
    "# remove spaces on both sides\n",
    "print(spaces.strip())"
   ]
  },
  {
   "cell_type": "code",
   "execution_count": 55,
   "id": "98b4bf77",
   "metadata": {},
   "outputs": [
    {
     "name": "stdout",
     "output_type": "stream",
     "text": [
      "Lookatallthespacesinthetext!\n"
     ]
    }
   ],
   "source": [
    "# remove all spaces \n",
    "print(spaces.replace(' ',''))"
   ]
  },
  {
   "cell_type": "code",
   "execution_count": 57,
   "id": "a24af130",
   "metadata": {},
   "outputs": [
    {
     "name": "stdout",
     "output_type": "stream",
     "text": [
      "Look at all the spaces in the text!\n"
     ]
    }
   ],
   "source": [
    "print(spaces.replace('     ',''))"
   ]
  },
  {
   "cell_type": "code",
   "execution_count": 59,
   "id": "8fe0ae5b",
   "metadata": {},
   "outputs": [
    {
     "name": "stdout",
     "output_type": "stream",
     "text": [
      "     Look at all the pace in the text!     \n"
     ]
    }
   ],
   "source": [
    "print(spaces.replace('s',''))"
   ]
  },
  {
   "cell_type": "markdown",
   "id": "3cf06c99",
   "metadata": {},
   "source": [
    "# Working with numbers"
   ]
  },
  {
   "cell_type": "code",
   "execution_count": 62,
   "id": "9136a7b6",
   "metadata": {},
   "outputs": [
    {
     "name": "stdout",
     "output_type": "stream",
     "text": [
      "1 1.0\n"
     ]
    }
   ],
   "source": [
    "print(1, 1.)"
   ]
  },
  {
   "cell_type": "code",
   "execution_count": 68,
   "id": "9cccf29b",
   "metadata": {},
   "outputs": [
    {
     "name": "stdout",
     "output_type": "stream",
     "text": [
      "<class 'int'> <class 'float'> <class 'str'>\n",
      "1 1.0 1.\n"
     ]
    }
   ],
   "source": [
    "int1 = 1\n",
    "float1 = 1.\n",
    "str1 = ('1.')\n",
    "print(type(int1), type(float1), type(str1))\n",
    "print(int1, float1, str1)"
   ]
  },
  {
   "cell_type": "code",
   "execution_count": 73,
   "id": "3cb2077b",
   "metadata": {},
   "outputs": [
    {
     "name": "stdout",
     "output_type": "stream",
     "text": [
      "<class 'int'> 2\n"
     ]
    }
   ],
   "source": [
    "int2 = int1 + int1\n",
    "print(type(int2), int2)"
   ]
  },
  {
   "cell_type": "code",
   "execution_count": 77,
   "id": "999bf705",
   "metadata": {},
   "outputs": [
    {
     "name": "stdout",
     "output_type": "stream",
     "text": [
      "<class 'float'> 2.0\n"
     ]
    }
   ],
   "source": [
    "#summing an int and a float yeilds a float\n",
    "float2 = int1 + float1\n",
    "print(type(float2), float2)"
   ]
  },
  {
   "cell_type": "code",
   "execution_count": null,
   "id": "307b917e",
   "metadata": {},
   "outputs": [],
   "source": [
    "## If you attempt to sum an int or float with a string, an error results"
   ]
  },
  {
   "cell_type": "code",
   "execution_count": 78,
   "id": "88c7c8d0",
   "metadata": {},
   "outputs": [
    {
     "ename": "TypeError",
     "evalue": "unsupported operand type(s) for +: 'int' and 'str'",
     "output_type": "error",
     "traceback": [
      "\u001b[0;31m---------------------------------------------------------------------------\u001b[0m",
      "\u001b[0;31mTypeError\u001b[0m                                 Traceback (most recent call last)",
      "\u001b[0;32m/var/folders/7l/h6dgk4zj46v592scp_p1cgwr0000gn/T/ipykernel_45785/2788647745.py\u001b[0m in \u001b[0;36m<module>\u001b[0;34m\u001b[0m\n\u001b[0;32m----> 1\u001b[0;31m \u001b[0mint1\u001b[0m \u001b[0;34m+\u001b[0m \u001b[0mstr1\u001b[0m\u001b[0;34m\u001b[0m\u001b[0;34m\u001b[0m\u001b[0m\n\u001b[0m",
      "\u001b[0;31mTypeError\u001b[0m: unsupported operand type(s) for +: 'int' and 'str'"
     ]
    }
   ],
   "source": [
    "int1 + str1"
   ]
  },
  {
   "cell_type": "code",
   "execution_count": 80,
   "id": "0b547cb0",
   "metadata": {},
   "outputs": [],
   "source": [
    "## Transform value to string"
   ]
  },
  {
   "cell_type": "code",
   "execution_count": 84,
   "id": "eb1c4035",
   "metadata": {},
   "outputs": [
    {
     "data": {
      "text/plain": [
       "'11.'"
      ]
     },
     "execution_count": 84,
     "metadata": {},
     "output_type": "execute_result"
    }
   ],
   "source": [
    "str11 = str(int1) + str1\n",
    "str11"
   ]
  },
  {
   "cell_type": "code",
   "execution_count": 86,
   "id": "11884168",
   "metadata": {},
   "outputs": [
    {
     "data": {
      "text/plain": [
       "'1.01.'"
      ]
     },
     "execution_count": 86,
     "metadata": {},
     "output_type": "execute_result"
    }
   ],
   "source": [
    "str11 = str(float1) + str1\n",
    "str11"
   ]
  },
  {
   "cell_type": "code",
   "execution_count": 94,
   "id": "81e58e11",
   "metadata": {},
   "outputs": [
    {
     "data": {
      "text/plain": [
       "2.0"
      ]
     },
     "execution_count": 94,
     "metadata": {},
     "output_type": "execute_result"
    }
   ],
   "source": [
    "float2 = float(str1) + float1\n",
    "float2"
   ]
  },
  {
   "cell_type": "code",
   "execution_count": 95,
   "id": "15d04b88",
   "metadata": {},
   "outputs": [
    {
     "name": "stdout",
     "output_type": "stream",
     "text": [
      "012345678910111213141516171819\n"
     ]
    }
   ],
   "source": [
    "total = ''\n",
    "for i in range(20):\n",
    "        total = total + str(i)\n",
    "print(total)"
   ]
  },
  {
   "cell_type": "code",
   "execution_count": null,
   "id": "6be5523a",
   "metadata": {},
   "outputs": [],
   "source": []
  }
 ],
 "metadata": {
  "kernelspec": {
   "display_name": "Python 3 (ipykernel)",
   "language": "python",
   "name": "python3"
  },
  "language_info": {
   "codemirror_mode": {
    "name": "ipython",
    "version": 3
   },
   "file_extension": ".py",
   "mimetype": "text/x-python",
   "name": "python",
   "nbconvert_exporter": "python",
   "pygments_lexer": "ipython3",
   "version": "3.9.13"
  }
 },
 "nbformat": 4,
 "nbformat_minor": 5
}
