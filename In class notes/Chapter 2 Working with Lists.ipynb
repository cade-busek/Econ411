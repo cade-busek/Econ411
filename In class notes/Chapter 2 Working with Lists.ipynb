{
 "cells": [
  {
   "cell_type": "markdown",
   "id": "c4e75844",
   "metadata": {},
   "source": [
    "# Project 2: Working with Lists"
   ]
  },
  {
   "cell_type": "markdown",
   "id": "f0bf11cd",
   "metadata": {},
   "source": [
    "Working with Lists\n",
    "\n",
    "New Concepts\tDescription\n",
    "\n",
    "Dynamic List\tA dynamic list is encapsulated by brackets ([]). A list is mutable. Elements can be added to or deleted from a list on the fly.\n",
    "\n",
    "List Concatenation\tTwo lists can be joined together in the same manner that strings are concatenated.\n",
    "\n",
    "List Indexing\tLists are indexed with the first element being indexed as zero and the last element as the length of (number of elements in) the list less one. Indexes are called using brackets – i.e., lst[0] calls the 0th element in the list.\n",
    "\n",
    "In later chapters, we will combine lists with dictionaries to essential data structures. We will also work with more efficient and convenient data structures using the numpy and pandas libraries."
   ]
  },
  {
   "cell_type": "code",
   "execution_count": 9,
   "id": "5417ff54",
   "metadata": {},
   "outputs": [
    {
     "data": {
      "text/plain": [
       "([], list)"
      ]
     },
     "execution_count": 9,
     "metadata": {},
     "output_type": "execute_result"
    }
   ],
   "source": [
    "empty_list = []\n",
    "empty_list, type(empty_list)"
   ]
  },
  {
   "cell_type": "code",
   "execution_count": 10,
   "id": "c4468919",
   "metadata": {},
   "outputs": [
    {
     "data": {
      "text/plain": [
       "([1, 2, 3, 4, 5], list)"
      ]
     },
     "execution_count": 10,
     "metadata": {},
     "output_type": "execute_result"
    }
   ],
   "source": [
    "int_list = [1,2,3,4,5]\n",
    "int_list, type(int_list)"
   ]
  },
  {
   "cell_type": "code",
   "execution_count": 11,
   "id": "59361397",
   "metadata": {},
   "outputs": [
    {
     "data": {
      "text/plain": [
       "([1.0, 2.0, 3.0, 4.0, 5.0], list)"
      ]
     },
     "execution_count": 11,
     "metadata": {},
     "output_type": "execute_result"
    }
   ],
   "source": [
    "float_list = [1.,2.,3.,4.,5.]\n",
    "float_list, type(float_list)"
   ]
  },
  {
   "cell_type": "code",
   "execution_count": 12,
   "id": "d2be2af4",
   "metadata": {},
   "outputs": [
    {
     "data": {
      "text/plain": [
       "(['Many words', 'impoverished meaning'], list)"
      ]
     },
     "execution_count": 12,
     "metadata": {},
     "output_type": "execute_result"
    }
   ],
   "source": [
    "string_list = [\"Many words\", \"impoverished meaning\"]\n",
    "string_list, type(string_list)"
   ]
  },
  {
   "cell_type": "code",
   "execution_count": 13,
   "id": "effe0d16",
   "metadata": {},
   "outputs": [
    {
     "data": {
      "text/plain": [
       "([1, 2.0, 'Mix it up'], list)"
      ]
     },
     "execution_count": 13,
     "metadata": {},
     "output_type": "execute_result"
    }
   ],
   "source": [
    "mixed_list = [1, 2., \"Mix it up\"]\n",
    "mixed_list, type(mixed_list)"
   ]
  },
  {
   "cell_type": "markdown",
   "id": "9d60b776",
   "metadata": {},
   "source": [
    "# Concatenation: Lists"
   ]
  },
  {
   "cell_type": "code",
   "execution_count": 16,
   "id": "d20fe2a5",
   "metadata": {},
   "outputs": [
    {
     "data": {
      "text/plain": [
       "[1, 2]"
      ]
     },
     "execution_count": 16,
     "metadata": {},
     "output_type": "execute_result"
    }
   ],
   "source": [
    "# Concatenating lists is a very efficient way to use list\n",
    "list1 = [1]\n",
    "list2 = [2]\n",
    "join_lists = list1 + list2\n",
    "join_lists"
   ]
  },
  {
   "cell_type": "code",
   "execution_count": 17,
   "id": "cc611eec",
   "metadata": {},
   "outputs": [
    {
     "data": {
      "text/plain": [
       "'12'"
      ]
     },
     "execution_count": 17,
     "metadata": {},
     "output_type": "execute_result"
    }
   ],
   "source": [
    "#similar to concatenating strings\n",
    "\n",
    "str1 = '1'\n",
    "str2 = '2'\n",
    "join_strs = str1 + str2\n",
    "join_strs"
   ]
  },
  {
   "cell_type": "markdown",
   "id": "1d573867",
   "metadata": {},
   "source": [
    "a for loop using a range will cycel through variable I from integer j to k-1 by increments of 1 for i in range (j,k,l)\n",
    "   \n",
    "       execute script "
   ]
  },
  {
   "cell_type": "code",
   "execution_count": 20,
   "id": "49b96de0",
   "metadata": {
    "scrolled": true
   },
   "outputs": [
    {
     "name": "stdout",
     "output_type": "stream",
     "text": [
      "1\n",
      "2\n",
      "3\n",
      "4\n",
      "5\n",
      "6\n",
      "7\n",
      "8\n",
      "9\n",
      "10\n",
      "11\n",
      "12\n",
      "13\n",
      "14\n",
      "15\n",
      "16\n",
      "17\n",
      "18\n",
      "19\n",
      "20\n",
      "21\n",
      "22\n",
      "23\n",
      "24\n",
      "25\n",
      "26\n",
      "27\n",
      "28\n",
      "29\n",
      "30\n",
      "31\n",
      "32\n",
      "33\n",
      "34\n",
      "35\n",
      "36\n",
      "37\n",
      "38\n",
      "39\n",
      "40\n",
      "41\n",
      "42\n",
      "43\n",
      "44\n",
      "45\n",
      "46\n",
      "47\n",
      "48\n",
      "49\n",
      "50\n",
      "51\n",
      "52\n",
      "53\n",
      "54\n",
      "55\n",
      "56\n",
      "57\n",
      "58\n",
      "59\n",
      "60\n",
      "61\n",
      "62\n",
      "63\n",
      "64\n",
      "65\n",
      "66\n",
      "67\n",
      "68\n",
      "69\n",
      "70\n",
      "71\n",
      "72\n",
      "73\n",
      "74\n",
      "75\n",
      "76\n",
      "77\n",
      "78\n",
      "79\n",
      "80\n",
      "81\n",
      "82\n",
      "83\n",
      "84\n",
      "85\n",
      "86\n",
      "87\n",
      "88\n",
      "89\n",
      "90\n",
      "91\n",
      "92\n",
      "93\n",
      "94\n",
      "95\n",
      "96\n",
      "97\n",
      "98\n",
      "99\n"
     ]
    }
   ],
   "source": [
    "# for loops make the computer count for us\n",
    "for i in range (1, 10**2):\n",
    "    print(i)"
   ]
  },
  {
   "cell_type": "code",
   "execution_count": 25,
   "id": "7ebbc318",
   "metadata": {
    "scrolled": true
   },
   "outputs": [
    {
     "name": "stdout",
     "output_type": "stream",
     "text": [
      "1 1\n",
      "2 3\n",
      "3 6\n",
      "4 10\n",
      "5 15\n",
      "6 21\n",
      "7 28\n",
      "8 36\n",
      "9 45\n",
      "10 55\n",
      "11 66\n",
      "12 78\n",
      "13 91\n",
      "14 105\n",
      "15 120\n",
      "16 136\n",
      "17 153\n",
      "18 171\n",
      "19 190\n",
      "20 210\n",
      "21 231\n",
      "22 253\n",
      "23 276\n",
      "24 300\n",
      "25 325\n",
      "26 351\n",
      "27 378\n",
      "28 406\n",
      "29 435\n",
      "30 465\n",
      "31 496\n",
      "32 528\n",
      "33 561\n",
      "34 595\n",
      "35 630\n",
      "36 666\n",
      "37 703\n",
      "38 741\n",
      "39 780\n",
      "40 820\n",
      "41 861\n",
      "42 903\n",
      "43 946\n",
      "44 990\n",
      "45 1035\n",
      "46 1081\n",
      "47 1128\n",
      "48 1176\n",
      "49 1225\n",
      "50 1275\n",
      "51 1326\n",
      "52 1378\n",
      "53 1431\n",
      "54 1485\n",
      "55 1540\n",
      "56 1596\n",
      "57 1653\n",
      "58 1711\n",
      "59 1770\n",
      "60 1830\n",
      "61 1891\n",
      "62 1953\n",
      "63 2016\n",
      "64 2080\n",
      "65 2145\n",
      "66 2211\n",
      "67 2278\n",
      "68 2346\n",
      "69 2415\n",
      "70 2485\n",
      "71 2556\n",
      "72 2628\n",
      "73 2701\n",
      "74 2775\n",
      "75 2850\n",
      "76 2926\n",
      "77 3003\n",
      "78 3081\n",
      "79 3160\n",
      "80 3240\n",
      "81 3321\n",
      "82 3403\n",
      "83 3486\n",
      "84 3570\n",
      "85 3655\n",
      "86 3741\n",
      "87 3828\n",
      "88 3916\n",
      "89 4005\n",
      "90 4095\n",
      "91 4186\n",
      "92 4278\n",
      "93 4371\n",
      "94 4465\n",
      "95 4560\n",
      "96 4656\n",
      "97 4753\n",
      "98 4851\n",
      "99 4950\n",
      "100 5050\n"
     ]
    }
   ],
   "source": [
    "# this type of interation is at the heart of AI, for loops are very helpful\n",
    "total = 0\n",
    "for i in range(1, 101):\n",
    "    total = total + i \n",
    "    print(i, total)\n",
    "    \n"
   ]
  },
  {
   "cell_type": "code",
   "execution_count": 37,
   "id": "b0d5859e",
   "metadata": {},
   "outputs": [
    {
     "name": "stdout",
     "output_type": "stream",
     "text": [
      "1 1\n",
      "3 4\n",
      "5 9\n",
      "7 16\n",
      "9 25\n",
      "11 36\n",
      "13 49\n",
      "15 64\n",
      "17 81\n",
      "19 100\n",
      "21 121\n",
      "23 144\n",
      "25 169\n",
      "27 196\n",
      "29 225\n",
      "31 256\n",
      "33 289\n",
      "35 324\n",
      "37 361\n",
      "39 400\n",
      "41 441\n",
      "43 484\n",
      "45 529\n",
      "47 576\n",
      "49 625\n",
      "51 676\n",
      "53 729\n",
      "55 784\n",
      "57 841\n",
      "59 900\n",
      "61 961\n",
      "63 1024\n",
      "65 1089\n",
      "67 1156\n",
      "69 1225\n",
      "71 1296\n",
      "73 1369\n",
      "75 1444\n",
      "77 1521\n",
      "79 1600\n",
      "81 1681\n",
      "83 1764\n",
      "85 1849\n",
      "87 1936\n",
      "89 2025\n",
      "91 2116\n",
      "93 2209\n",
      "95 2304\n",
      "97 2401\n",
      "99 2500\n"
     ]
    }
   ],
   "source": [
    "total = 0  \n",
    "for i in range(1, 101, 2):\n",
    "    total = total + i\n",
    "    print(i, total)"
   ]
  },
  {
   "cell_type": "code",
   "execution_count": 32,
   "id": "48ab02f7",
   "metadata": {},
   "outputs": [
    {
     "name": "stdout",
     "output_type": "stream",
     "text": [
      "543\n",
      "342\n",
      "6\n",
      "534\n",
      "543\n",
      "1 False\n",
      "2 False\n",
      "9 False\n",
      "8 False\n",
      "5 False\n",
      "j False\n",
      "7 False\n",
      "9 False\n",
      "2 False\n",
      "k True\n",
      "s False\n",
      "a False\n",
      "k True\n",
      "j False\n",
      "d False\n",
      "f False\n",
      "5 False\n",
      "a False\n",
      "d False\n",
      "4 False\n",
      "j False\n",
      "k True\n",
      "d False\n",
      "8 False\n",
      "9 False\n"
     ]
    }
   ],
   "source": [
    "# if the object has multiple elements, the for loop will cycle through the elements\n",
    "list1 = [543, 342, 6, 534, 543]\n",
    "str1 = '12985j792ksakjdf5ad4jkd89'\n",
    "\n",
    "for val in list1: \n",
    "    print(val)\n",
    "\n",
    "for string in str1:\n",
    "        print(string, string == \"k\")\n",
    "        "
   ]
  },
  {
   "cell_type": "code",
   "execution_count": 38,
   "id": "4155d3db",
   "metadata": {},
   "outputs": [
    {
     "data": {
      "text/plain": [
       "[1, 2, 3, 4]"
      ]
     },
     "execution_count": 38,
     "metadata": {},
     "output_type": "execute_result"
    }
   ],
   "source": [
    "list1 = [1,2]\n",
    "list2 = [3,4]\n",
    "list1 + list2"
   ]
  },
  {
   "cell_type": "markdown",
   "id": "0200cb19",
   "metadata": {},
   "source": [
    "## More on range()\n"
   ]
  },
  {
   "cell_type": "code",
   "execution_count": 3,
   "id": "c49644bf",
   "metadata": {},
   "outputs": [
    {
     "name": "stdout",
     "output_type": "stream",
     "text": [
      "0\n",
      "2\n",
      "4\n",
      "6\n",
      "8\n",
      "[0, 2, 4, 6, 8]\n"
     ]
    }
   ],
   "source": [
    "# create a list by appending values to the list\n",
    "list1 = []\n",
    "for i in range (0,9, 2):\n",
    "    print(i)\n",
    "    list1.append(i)\n",
    "print(list1)    "
   ]
  },
  {
   "cell_type": "code",
   "execution_count": 11,
   "id": "20556bd0",
   "metadata": {},
   "outputs": [
    {
     "data": {
      "text/plain": [
       "[0, 1, 2, 3, 4, 5, 6, 7, 8]"
      ]
     },
     "execution_count": 11,
     "metadata": {},
     "output_type": "execute_result"
    }
   ],
   "source": [
    "# create a list by passing range(range(i,j,l))\n",
    "# more efficient alternative to using append within a for loop\n",
    "list2 = list(range(0,9,1))\n",
    "list2"
   ]
  },
  {
   "cell_type": "markdown",
   "id": "3132b1c8",
   "metadata": {},
   "source": [
    "### Using len() with range"
   ]
  },
  {
   "cell_type": "code",
   "execution_count": 12,
   "id": "5ae3b6b5",
   "metadata": {},
   "outputs": [
    {
     "name": "stdout",
     "output_type": "stream",
     "text": [
      "i val\n",
      "0 0\n",
      "1 1\n",
      "2 2\n",
      "3 3\n",
      "4 4\n",
      "5 5\n",
      "6 6\n",
      "7 7\n",
      "8 8\n"
     ]
    }
   ],
   "source": [
    "list2_len = len(list2)\n",
    "print('i','val')\n",
    "for i in range(list2_len):\n",
    "    print(i, list2[i])"
   ]
  },
  {
   "cell_type": "markdown",
   "id": "22620cc3",
   "metadata": {},
   "source": [
    "## Nested for-loop"
   ]
  },
  {
   "cell_type": "code",
   "execution_count": 23,
   "id": "3aab59a6",
   "metadata": {
    "scrolled": true
   },
   "outputs": [
    {
     "name": "stdout",
     "output_type": "stream",
     "text": [
      "i list\n",
      "1 [0, 1, 2, 3, 4, 5, 6, 7, 8]\n",
      "length: 9\n",
      "j val\n",
      "0 0\n",
      "1 1\n",
      "2 2\n",
      "3 3\n",
      "4 4\n",
      "5 5\n",
      "6 6\n",
      "7 7\n",
      "8 8\n",
      "2 [0, 2, 4, 6, 8]\n",
      "length: 5\n",
      "j val\n",
      "0 0\n",
      "1 2\n",
      "2 4\n",
      "3 6\n",
      "4 8\n",
      "3 [0, 3, 6]\n",
      "length: 3\n",
      "j val\n",
      "0 0\n",
      "1 3\n",
      "2 6\n",
      "4 [0, 4, 8]\n",
      "length: 3\n",
      "j val\n",
      "0 0\n",
      "1 4\n",
      "2 8\n",
      "5 [0, 5]\n",
      "length: 2\n",
      "j val\n",
      "0 0\n",
      "1 5\n"
     ]
    }
   ],
   "source": [
    "print('i','list')\n",
    "\n",
    "# create a new list2 according to the interval values called by the for loop\n",
    "for interval in range(1, 6):\n",
    "    list2 = list(range(0,9,interval))\n",
    "    print(interval, list2)\n",
    "    list2_len = len(list2)\n",
    "    print('length:', list2_len)\n",
    "    print('j','val')\n",
    "\n",
    "    for j in range(list2_len):\n",
    "       print(j, list2[j])"
   ]
  },
  {
   "cell_type": "markdown",
   "id": "0b46aa59",
   "metadata": {},
   "source": [
    "## If statements and boolean variables"
   ]
  },
  {
   "cell_type": "code",
   "execution_count": 27,
   "id": "faae66a1",
   "metadata": {},
   "outputs": [
    {
     "data": {
      "text/plain": [
       "True"
      ]
     },
     "execution_count": 27,
     "metadata": {},
     "output_type": "execute_result"
    }
   ],
   "source": [
    "#Boolean variables are either true or false\n",
    "True "
   ]
  },
  {
   "cell_type": "code",
   "execution_count": 28,
   "id": "ef80f38f",
   "metadata": {},
   "outputs": [
    {
     "data": {
      "text/plain": [
       "False"
      ]
     },
     "execution_count": 28,
     "metadata": {},
     "output_type": "execute_result"
    }
   ],
   "source": [
    "False"
   ]
  },
  {
   "cell_type": "code",
   "execution_count": 29,
   "id": "dd41d41c",
   "metadata": {},
   "outputs": [
    {
     "data": {
      "text/plain": [
       "0"
      ]
     },
     "execution_count": 29,
     "metadata": {},
     "output_type": "execute_result"
    }
   ],
   "source": [
    "True * False"
   ]
  },
  {
   "cell_type": "code",
   "execution_count": 30,
   "id": "fe38504e",
   "metadata": {},
   "outputs": [
    {
     "data": {
      "text/plain": [
       "1"
      ]
     },
     "execution_count": 30,
     "metadata": {},
     "output_type": "execute_result"
    }
   ],
   "source": [
    "True * True"
   ]
  },
  {
   "cell_type": "code",
   "execution_count": 35,
   "id": "5d43ed06",
   "metadata": {},
   "outputs": [
    {
     "name": "stdout",
     "output_type": "stream",
     "text": [
      "True\n",
      "False\n"
     ]
    }
   ],
   "source": [
    "boolean = True\n",
    "\n",
    "# conditional statement // if statement\n",
    "if boolean: # if boolean == True\n",
    "    print(boolean)\n",
    "    \n",
    "boolean2 = False\n",
    "if boolean2 == False: # if boolean2 == True\n",
    "    print(boolean2)"
   ]
  },
  {
   "cell_type": "code",
   "execution_count": 1,
   "id": "7f7716bb",
   "metadata": {},
   "outputs": [
    {
     "data": {
      "text/plain": [
       "True"
      ]
     },
     "execution_count": 1,
     "metadata": {},
     "output_type": "execute_result"
    }
   ],
   "source": [
    "1 == True"
   ]
  },
  {
   "cell_type": "code",
   "execution_count": 2,
   "id": "282d5634",
   "metadata": {},
   "outputs": [
    {
     "data": {
      "text/plain": [
       "False"
      ]
     },
     "execution_count": 2,
     "metadata": {},
     "output_type": "execute_result"
    }
   ],
   "source": [
    "# != is \"not equal to\"\n",
    "1 != True"
   ]
  },
  {
   "cell_type": "markdown",
   "id": "261f65ce",
   "metadata": {},
   "source": [
    "## use a boolean variable and a conditional statement (if statement) to track the appearance of the word \"ate\""
   ]
  },
  {
   "cell_type": "code",
   "execution_count": 30,
   "id": "c239c7fc",
   "metadata": {},
   "outputs": [
    {
     "name": "stdout",
     "output_type": "stream",
     "text": [
      "0 Is the word The \"ate\"? False\n",
      "1 Is the word dog \"ate\"? False\n",
      "2 Is the word ate \"ate\"? True\n",
      "3 Is the word the \"ate\"? False\n",
      "4 Is the word snow \"ate\"? False\n",
      "5 Is the word and \"ate\"? False\n",
      "6 Is the word ate \"ate\"? True\n",
      "7 Is the word his \"ate\"? False\n",
      "8 Is the word dog \"ate\"? False\n",
      "9 Is the word food \"ate\"? False\n"
     ]
    },
    {
     "data": {
      "text/plain": [
       "[2, 6]"
      ]
     },
     "execution_count": 30,
     "metadata": {},
     "output_type": "execute_result"
    }
   ],
   "source": [
    "words = [\"The\", 'dog', 'ate', 'the', 'snow', 'and', 'ate', 'his', 'dog', 'food']\n",
    "# does the word \"ate\" appear in the list? If so, where?\n",
    "ate_index_list=[]\n",
    "\n",
    "num_words = len(words)\n",
    "for i in range(num_words):\n",
    "        # save the string at index i as word\n",
    "        word = words[i]\n",
    "        # is ate is a boolean that tells whether the current word is ate\n",
    "        is_ate = word == \"ate\"\n",
    "        print(i,\"Is the word\", word, \"\\\"ate\\\"?\", is_ate)\n",
    "        \n",
    "        # if the word is 'ate', then add the index to the list so that we can have\n",
    "        # and easy to reference record of the indices where ate appears\n",
    "        if is_ate:\n",
    "             ate_index_list.append(i)\n",
    "ate_index_list\n",
    "        "
   ]
  },
  {
   "cell_type": "code",
   "execution_count": 31,
   "id": "a120a245",
   "metadata": {},
   "outputs": [
    {
     "data": {
      "text/plain": [
       "False"
      ]
     },
     "execution_count": 31,
     "metadata": {},
     "output_type": "execute_result"
    }
   ],
   "source": [
    "is_ate = word == \"ate\"\n",
    "is_ate"
   ]
  },
  {
   "cell_type": "markdown",
   "id": "301bd532",
   "metadata": {},
   "source": [
    "# if, else, elif"
   ]
  },
  {
   "cell_type": "code",
   "execution_count": 36,
   "id": "139f8eac",
   "metadata": {},
   "outputs": [
    {
     "name": "stdout",
     "output_type": "stream",
     "text": [
      "1 is not greater than 10\n",
      "6 is not greater than 10\n",
      "23 is greater than 10\n",
      "23432 is greater than 10\n",
      "423 is greater than 10\n",
      "1 is not greater than 10\n",
      "234 is greater than 10\n",
      "324 is greater than 10\n",
      "5 is not greater than 10\n",
      "5 is not greater than 10\n",
      "32 is greater than 10\n",
      "6 is not greater than 10\n"
     ]
    }
   ],
   "source": [
    "random_numbers = [1,6,23, 23432,423,1,234, 324,5, 5,32,6]\n",
    "\n",
    "# is the number greater than 10\n",
    "\n",
    "not_greater_than_10 = []\n",
    "greater_than_10 = []\n",
    "for number in random_numbers:\n",
    "\n",
    "    if number > 10:\n",
    "        print(number, \"is greater than 10\")\n",
    "        greater_than_10.append(number)\n",
    "    else:\n",
    "        print(number, 'is not greater than 10')\n",
    "        not_greater_than_10.append(number)"
   ]
  },
  {
   "cell_type": "code",
   "execution_count": 37,
   "id": "9ca1a744",
   "metadata": {},
   "outputs": [
    {
     "data": {
      "text/plain": [
       "[23, 23432, 423, 234, 324, 32]"
      ]
     },
     "execution_count": 37,
     "metadata": {},
     "output_type": "execute_result"
    }
   ],
   "source": [
    "greater_than_10"
   ]
  },
  {
   "cell_type": "code",
   "execution_count": 63,
   "id": "b54ef8aa",
   "metadata": {},
   "outputs": [
    {
     "name": "stdout",
     "output_type": "stream",
     "text": [
      "1 is the domain of 0 and  10\n",
      "6 is the domain of 0 and  10\n",
      "8 is the domain of 0 and  10\n",
      "23 is greater than 10\n",
      "23432 is greater than 10\n",
      "423 is greater than 10\n",
      "1 is the domain of 0 and  10\n",
      "234 is greater than 10\n",
      "324 is greater than 10\n",
      "5 is the domain of 0 and  10\n",
      "5 is the domain of 0 and  10\n",
      "32 is greater than 10\n",
      "6 is the domain of 0 and  10\n",
      "-1 is negative\n",
      "-345 is negative\n",
      "-15 is negative\n",
      "-35 is negative\n"
     ]
    }
   ],
   "source": [
    "random_numbers = [1,6,8,23, 23432,423,1,234, 324,5, 5,32,6, -1, -345, -15, -35]\n",
    "\n",
    "# is the number greater than 10\n",
    "greater_than_10 = []\n",
    "zero_to_10 = []\n",
    "negative_numbers = []\n",
    "for number in random_numbers:\n",
    "\n",
    "    #what if you want to catch strings in your list\n",
    "    if type(number) == str: number = float(number)\n",
    "    if number > 10:\n",
    "        print(number, \"is greater than 10\")\n",
    "        greater_than_10.append(number)\n",
    "    #if a number is 10 or less, the program will read the elifand test \n",
    "    # that the number is zero or greater, this cathces all the numbers in the domain [0,10]\n",
    "    elif number >= 0:\n",
    "        print(number, 'is the domain of 0 and  10')\n",
    "        zero_to_10.append(number)\n",
    "    #the else statement catches any numbers that are negative since the previous conditions\n",
    "    #checked if the the statements were zero or greater\n",
    "    else:\n",
    "        print(number, 'is negative')\n",
    "        negative_numbers.append(number)"
   ]
  },
  {
   "cell_type": "code",
   "execution_count": 64,
   "id": "ba5641c9",
   "metadata": {},
   "outputs": [
    {
     "data": {
      "text/plain": [
       "([23, 23432, 423, 234, 324, 32], [1, 6, 8, 1, 5, 5, 6], [-1, -345, -15, -35])"
      ]
     },
     "execution_count": 64,
     "metadata": {},
     "output_type": "execute_result"
    }
   ],
   "source": [
    "greater_than_10, zero_to_10, negative_numbers"
   ]
  },
  {
   "cell_type": "markdown",
   "id": "cdf24cec",
   "metadata": {},
   "source": [
    "# use del lst[i]"
   ]
  },
  {
   "cell_type": "code",
   "execution_count": 65,
   "id": "183cf6cb",
   "metadata": {},
   "outputs": [
    {
     "data": {
      "text/plain": [
       "([23, 423, 234, 324, 32], [1, 8, 1, 5, 5, 6], [-1, -15, -35])"
      ]
     },
     "execution_count": 65,
     "metadata": {},
     "output_type": "execute_result"
    }
   ],
   "source": [
    "# use del lst[i] to delete the ith element from lst \n",
    "del greater_than_10[1] \n",
    "del zero_to_10[1]\n",
    "del negative_numbers[1]\n",
    "greater_than_10, zero_to_10, negative_numbers"
   ]
  },
  {
   "cell_type": "code",
   "execution_count": 66,
   "id": "c73aaabd",
   "metadata": {},
   "outputs": [
    {
     "data": {
      "text/plain": [
       "([23, 423, 234, 324], [1, 8, 1, 5, 5], [-1, -15])"
      ]
     },
     "execution_count": 66,
     "metadata": {},
     "output_type": "execute_result"
    }
   ],
   "source": [
    "# passing -1 as a list index calls the last element in the lest\n",
    "# passing -1 when using del lst[i] will delete the last element in the list\n",
    "\n",
    "del greater_than_10[-1] \n",
    "del zero_to_10[-1]\n",
    "del negative_numbers[-1]\n",
    "greater_than_10, zero_to_10, negative_numbers"
   ]
  },
  {
   "cell_type": "markdown",
   "id": "c19b4063",
   "metadata": {},
   "source": [
    "# use lst.remove(val)"
   ]
  },
  {
   "cell_type": "code",
   "execution_count": 69,
   "id": "5ba2eeca",
   "metadata": {},
   "outputs": [
    {
     "data": {
      "text/plain": [
       "([423, 234, 324], [8, 1, 5, 5])"
      ]
     },
     "execution_count": 69,
     "metadata": {},
     "output_type": "execute_result"
    }
   ],
   "source": [
    "# use lst.remove(val)\n",
    "greater_than_10.remove(23)\n",
    "\n",
    "#if you remove a value that appears twice, then the first appearance from the list is removed\n",
    "zero_to_10.remove(1)\n",
    "greater_than_10, zero_to_10\n"
   ]
  },
  {
   "cell_type": "markdown",
   "id": "c1668076",
   "metadata": {},
   "source": [
    "# use lst.pop()"
   ]
  },
  {
   "cell_type": "code",
   "execution_count": 70,
   "id": "4091c797",
   "metadata": {},
   "outputs": [
    {
     "data": {
      "text/plain": [
       "([423, 234], 324)"
      ]
     },
     "execution_count": 70,
     "metadata": {},
     "output_type": "execute_result"
    }
   ],
   "source": [
    "#removes the last or ith element\n",
    "last_val_in_lst = greater_than_10.pop()\n",
    "greater_than_10, last_val_in_lst"
   ]
  },
  {
   "cell_type": "markdown",
   "id": "e18d1eeb",
   "metadata": {},
   "source": [
    "## sorting list"
   ]
  },
  {
   "cell_type": "code",
   "execution_count": 73,
   "id": "c933ce2c",
   "metadata": {},
   "outputs": [
    {
     "data": {
      "text/plain": [
       "([1, 2, 4, 6, 243, 34, 123, 43134, 145234, 234, 3, 4],\n",
       " [1, 2, 3, 4, 4, 6, 34, 123, 234, 243, 43134, 145234],\n",
       " [1, 2, 4, 6, 243, 34, 123, 43134, 145234, 234, 3, 4])"
      ]
     },
     "execution_count": 73,
     "metadata": {},
     "output_type": "execute_result"
    }
   ],
   "source": [
    "#sorted(lst) will sort a copy of lst\n",
    "num_list = [1,2,4,6,243,34,123,43134,145234,234,3,4]\n",
    "\n",
    "num_list, sorted(num_list), num_list\n",
    "               "
   ]
  },
  {
   "cell_type": "code",
   "execution_count": 72,
   "id": "7357a6cd",
   "metadata": {},
   "outputs": [
    {
     "data": {
      "text/plain": [
       "(['A', 'list', 'of', 'string,is', 'in', 'string_list'],\n",
       " ['A', 'in', 'list', 'of', 'string,is', 'string_list'])"
      ]
     },
     "execution_count": 72,
     "metadata": {},
     "output_type": "execute_result"
    }
   ],
   "source": [
    "string_list = ['A', \"list\", 'of', 'string,''is', 'in', 'string_list']\n",
    "string_list, sorted(string_list)"
   ]
  },
  {
   "cell_type": "code",
   "execution_count": 74,
   "id": "ff3c274f",
   "metadata": {},
   "outputs": [
    {
     "data": {
      "text/plain": [
       "[1, 2, 3, 4, 4, 6, 34, 123, 234, 243, 43134, 145234]"
      ]
     },
     "execution_count": 74,
     "metadata": {},
     "output_type": "execute_result"
    }
   ],
   "source": [
    "#lst.sort() will sort the original list object\n",
    "num_list.sort()\n",
    "num_list"
   ]
  },
  {
   "cell_type": "code",
   "execution_count": 75,
   "id": "0993c45d",
   "metadata": {
    "scrolled": true
   },
   "outputs": [
    {
     "ename": "TypeError",
     "evalue": "'<' not supported between instances of 'str' and 'int'",
     "output_type": "error",
     "traceback": [
      "\u001b[0;31m---------------------------------------------------------------------------\u001b[0m",
      "\u001b[0;31mTypeError\u001b[0m                                 Traceback (most recent call last)",
      "\u001b[0;32m/var/folders/7l/h6dgk4zj46v592scp_p1cgwr0000gn/T/ipykernel_1583/1260062595.py\u001b[0m in \u001b[0;36m<module>\u001b[0;34m\u001b[0m\n\u001b[0;32m----> 1\u001b[0;31m \u001b[0msorted\u001b[0m\u001b[0;34m(\u001b[0m\u001b[0mnum_list\u001b[0m \u001b[0;34m+\u001b[0m \u001b[0mstring_list\u001b[0m\u001b[0;34m)\u001b[0m\u001b[0;34m\u001b[0m\u001b[0;34m\u001b[0m\u001b[0m\n\u001b[0m",
      "\u001b[0;31mTypeError\u001b[0m: '<' not supported between instances of 'str' and 'int'"
     ]
    }
   ],
   "source": [
    "# sorting mixed types will generate an error\n",
    "# you cannot compart strings and numerical values\n",
    "sorted(num_list + string_list)"
   ]
  },
  {
   "cell_type": "markdown",
   "id": "62ed5a04",
   "metadata": {},
   "source": [
    "# List slices"
   ]
  },
  {
   "cell_type": "code",
   "execution_count": 77,
   "id": "c038bd97",
   "metadata": {},
   "outputs": [
    {
     "data": {
      "text/plain": [
       "([1, 2, 3, 4, 5, 6, 6, 7], [3, 4, 5])"
      ]
     },
     "execution_count": 77,
     "metadata": {},
     "output_type": "execute_result"
    }
   ],
   "source": [
    "# a slice of a list takes a subset of values from a list\n",
    "lst = [1,2,3,4,5,6,6,7]\n",
    "# compare full list to sliced list\n",
    "lst, lst[2:5]"
   ]
  },
  {
   "cell_type": "code",
   "execution_count": 79,
   "id": "1626f661",
   "metadata": {},
   "outputs": [
    {
     "data": {
      "text/plain": [
       "([1, 2, 3, 4, 5, 6, 6, 7], [1, 3, 5, 6])"
      ]
     },
     "execution_count": 79,
     "metadata": {},
     "output_type": "execute_result"
    }
   ],
   "source": [
    "# count through the index by twos\n",
    "# implicit start and end index values\n",
    "lst, lst[0:-1:2]\n"
   ]
  },
  {
   "cell_type": "code",
   "execution_count": 78,
   "id": "94a6eb8f",
   "metadata": {},
   "outputs": [
    {
     "data": {
      "text/plain": [
       "([1, 2, 3, 4, 5, 6, 6, 7], [1, 3, 5, 6])"
      ]
     },
     "execution_count": 78,
     "metadata": {},
     "output_type": "execute_result"
    }
   ],
   "source": [
    "# implicit start and end index values\n",
    "lst, lst[::2]"
   ]
  },
  {
   "cell_type": "markdown",
   "id": "e9405798",
   "metadata": {},
   "source": [
    "## list and generator functions"
   ]
  },
  {
   "cell_type": "code",
   "execution_count": 81,
   "id": "103615c5",
   "metadata": {},
   "outputs": [
    {
     "data": {
      "text/plain": [
       "<generator object <genexpr> at 0x7f8ea2a1b2e0>"
      ]
     },
     "execution_count": 81,
     "metadata": {},
     "output_type": "execute_result"
    }
   ],
   "source": [
    "generator = (i for i in range (20))\n",
    "generator\n",
    "\n"
   ]
  },
  {
   "cell_type": "code",
   "execution_count": 82,
   "id": "2be61419",
   "metadata": {},
   "outputs": [
    {
     "data": {
      "text/plain": [
       "[0, 1, 2, 3, 4, 5, 6, 7, 8, 9, 10, 11, 12, 13, 14, 15, 16, 17, 18, 19]"
      ]
     },
     "execution_count": 82,
     "metadata": {},
     "output_type": "execute_result"
    }
   ],
   "source": [
    "list1 = list(generator)\n",
    "list1"
   ]
  },
  {
   "cell_type": "code",
   "execution_count": 84,
   "id": "f7fadd4c",
   "metadata": {},
   "outputs": [
    {
     "data": {
      "text/plain": [
       "[0, 2, 4, 6, 8, 10, 12, 14, 16, 18, 20, 22, 24, 26, 28, 30, 32, 34, 36, 38]"
      ]
     },
     "execution_count": 84,
     "metadata": {},
     "output_type": "execute_result"
    }
   ],
   "source": [
    "list2 = [2 * i for i in range (20)]\n",
    "list2"
   ]
  },
  {
   "cell_type": "code",
   "execution_count": 85,
   "id": "e50fc5e4",
   "metadata": {},
   "outputs": [
    {
     "ename": "TypeError",
     "evalue": "'list' object is not callable",
     "output_type": "error",
     "traceback": [
      "\u001b[0;31m---------------------------------------------------------------------------\u001b[0m",
      "\u001b[0;31mTypeError\u001b[0m                                 Traceback (most recent call last)",
      "\u001b[0;32m/var/folders/7l/h6dgk4zj46v592scp_p1cgwr0000gn/T/ipykernel_1583/4138227496.py\u001b[0m in \u001b[0;36m<module>\u001b[0;34m\u001b[0m\n\u001b[1;32m      1\u001b[0m \u001b[0;31m# be careful not to save over the list function\u001b[0m\u001b[0;34m\u001b[0m\u001b[0;34m\u001b[0m\u001b[0m\n\u001b[1;32m      2\u001b[0m \u001b[0mlist\u001b[0m \u001b[0;34m=\u001b[0m \u001b[0;34m[\u001b[0m\u001b[0;34m'a'\u001b[0m\u001b[0;34m,\u001b[0m \u001b[0;34m'list'\u001b[0m\u001b[0;34m]\u001b[0m\u001b[0;34m\u001b[0m\u001b[0;34m\u001b[0m\u001b[0m\n\u001b[0;32m----> 3\u001b[0;31m \u001b[0mlist\u001b[0m\u001b[0;34m(\u001b[0m\u001b[0mi\u001b[0m \u001b[0;32mfor\u001b[0m \u001b[0mi\u001b[0m \u001b[0;32min\u001b[0m \u001b[0mrange\u001b[0m\u001b[0;34m(\u001b[0m\u001b[0;36m20\u001b[0m\u001b[0;34m)\u001b[0m\u001b[0;34m)\u001b[0m\u001b[0;34m\u001b[0m\u001b[0;34m\u001b[0m\u001b[0m\n\u001b[0m",
      "\u001b[0;31mTypeError\u001b[0m: 'list' object is not callable"
     ]
    }
   ],
   "source": [
    "# be careful not to save over the list function\n",
    "list = ['a', 'list']\n",
    "list(i for i in range(20))"
   ]
  }
 ],
 "metadata": {
  "kernelspec": {
   "display_name": "Python 3 (ipykernel)",
   "language": "python",
   "name": "python3"
  },
  "language_info": {
   "codemirror_mode": {
    "name": "ipython",
    "version": 3
   },
   "file_extension": ".py",
   "mimetype": "text/x-python",
   "name": "python",
   "nbconvert_exporter": "python",
   "pygments_lexer": "ipython3",
   "version": "3.9.13"
  }
 },
 "nbformat": 4,
 "nbformat_minor": 5
}
